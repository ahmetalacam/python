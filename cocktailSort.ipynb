{
  "nbformat": 4,
  "nbformat_minor": 0,
  "metadata": {
    "colab": {
      "provenance": [],
      "authorship_tag": "ABX9TyOi8KfuGHhPgHBHY7pH0wxn",
      "include_colab_link": true
    },
    "kernelspec": {
      "name": "python3",
      "display_name": "Python 3"
    },
    "language_info": {
      "name": "python"
    }
  },
  "cells": [
    {
      "cell_type": "markdown",
      "metadata": {
        "id": "view-in-github",
        "colab_type": "text"
      },
      "source": [
        "<a href=\"https://colab.research.google.com/github/ahmetalacam/python/blob/main/cocktailSort.ipynb\" target=\"_parent\"><img src=\"https://colab.research.google.com/assets/colab-badge.svg\" alt=\"Open In Colab\"/></a>"
      ]
    },
    {
      "cell_type": "code",
      "execution_count": null,
      "metadata": {
        "id": "9XfHNGfE-ARA"
      },
      "outputs": [],
      "source": [
        "from numpy import random\n",
        "\n",
        "def array_generator(sz):\n",
        "    global a\n",
        "    a = random.randint(1, 1000, sz)\n",
        "\n",
        "def cocktail_sort(arr):\n",
        "    n=len(arr)\n",
        "    changed=True\n",
        "    begin=0\n",
        "    end=n-1\n",
        "\n",
        "    while(changed==True):\n",
        "        changed=False\n",
        "\n",
        "        for i in range(begin, end):\n",
        "            if (arr[i]>arr[i+1]):\n",
        "                arr[i], arr[i+1] = arr[i+1], arr[i] #swapping\n",
        "                changed=True\n",
        "\n",
        "        if (changed==False):\n",
        "            break\n",
        "\n",
        "        changed=False\n",
        "        end=end-1\n",
        "\n",
        "        for i in range(end-1, begin,-1):\n",
        "            if(arr[i]>arr[i+1]):\n",
        "                arr[i], arr[i+1] = arr[i+1], arr[i] #swapping\n",
        "                changed=True\n",
        "        begin=begin+1\n",
        "\n",
        "\n",
        "\n",
        "array_generator(20)\n",
        "\n",
        "\n",
        "print(a)\n",
        "\n",
        "cocktail_sort(a)\n",
        "cocktail_sort(a)\n",
        "\n",
        "print(a)\n",
        "\n",
        "\n",
        "\n"
      ]
    }
  ]
}