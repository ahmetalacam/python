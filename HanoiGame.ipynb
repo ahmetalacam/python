{
  "nbformat": 4,
  "nbformat_minor": 0,
  "metadata": {
    "colab": {
      "provenance": [],
      "authorship_tag": "ABX9TyMH14Y428qzl79rc276THZd",
      "include_colab_link": true
    },
    "kernelspec": {
      "name": "python3",
      "display_name": "Python 3"
    },
    "language_info": {
      "name": "python"
    }
  },
  "cells": [
    {
      "cell_type": "markdown",
      "metadata": {
        "id": "view-in-github",
        "colab_type": "text"
      },
      "source": [
        "<a href=\"https://colab.research.google.com/github/ahmetalacam/python/blob/main/HanoiGame.ipynb\" target=\"_parent\"><img src=\"https://colab.research.google.com/assets/colab-badge.svg\" alt=\"Open In Colab\"/></a>"
      ]
    },
    {
      "cell_type": "code",
      "execution_count": 1,
      "metadata": {
        "colab": {
          "base_uri": "https://localhost:8080/"
        },
        "id": "3VepNty8Cnnn",
        "outputId": "8a85fff1-ddee-4975-dda5-f6a2c9a2b371"
      },
      "outputs": [
        {
          "output_type": "stream",
          "name": "stdout",
          "text": [
            "Take a disk from tower a, put it in tower c \n",
            "Take a disk from tower a, put it in tower b \n",
            "Take a disk from tower c, put it in tower b \n",
            "Take a disk from tower a, put it in tower c \n",
            "Take a disk from tower b, put it in tower a \n",
            "Take a disk from tower b, put it in tower c \n",
            "Take a disk from tower a, put it in tower c \n"
          ]
        }
      ],
      "source": [
        "def hanoi(n,a,b,c):\n",
        "  if n==1:\n",
        "    print(\"Take a disk from tower {}, put it in tower {} \".format(a,c))\n",
        "  else:\n",
        "    hanoi(n-1,a,c,b)\n",
        "    hanoi(1,a,b,c)\n",
        "    hanoi(n-1,b,a,c)\n",
        "\n",
        "hanoi(3,\"a\",\"b\",\"c\")\n",
        "\n",
        "\n"
      ]
    },
    {
      "cell_type": "markdown",
      "source": [],
      "metadata": {
        "id": "vJSTlRcbHpZW"
      }
    },
    {
      "cell_type": "code",
      "source": [
        ""
      ],
      "metadata": {
        "id": "ZFCTNFLLHqfG"
      },
      "execution_count": null,
      "outputs": []
    }
  ]
}